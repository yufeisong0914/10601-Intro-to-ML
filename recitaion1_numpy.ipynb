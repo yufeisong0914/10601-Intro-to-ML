{
  "nbformat": 4,
  "nbformat_minor": 0,
  "metadata": {
    "colab": {
      "provenance": [],
      "include_colab_link": true
    },
    "kernelspec": {
      "name": "python3",
      "display_name": "Python 3"
    }
  },
  "cells": [
    {
      "cell_type": "markdown",
      "metadata": {
        "id": "view-in-github",
        "colab_type": "text"
      },
      "source": [
        "<a href=\"https://colab.research.google.com/github/yufeisong0914/10601-Intro-to-ML/blob/main/recitaion1_numpy.ipynb\" target=\"_parent\"><img src=\"https://colab.research.google.com/assets/colab-badge.svg\" alt=\"Open In Colab\"/></a>"
      ]
    },
    {
      "cell_type": "code",
      "metadata": {
        "id": "qVc-GpI09_z1",
        "collapsed": true,
        "colab": {
          "base_uri": "https://localhost:8080/"
        },
        "outputId": "5c85e11e-570a-4502-f9ef-5e26aa49be3f"
      },
      "source": [
        "#@title Mount Drive\n",
        "from google.colab import drive\n",
        "drive.mount('/content/drive')\n",
        "!pip3 install numpy\n",
        "%cd /content/drive/My Drive"
      ],
      "execution_count": null,
      "outputs": [
        {
          "output_type": "stream",
          "name": "stdout",
          "text": [
            "Drive already mounted at /content/drive; to attempt to forcibly remount, call drive.mount(\"/content/drive\", force_remount=True).\n",
            "Requirement already satisfied: numpy in /usr/local/lib/python3.11/dist-packages (1.26.4)\n",
            "/content/drive/My Drive\n"
          ]
        }
      ]
    },
    {
      "cell_type": "code",
      "source": [
        "!pip3 install numpy\n",
        "import numpy as np"
      ],
      "metadata": {
        "id": "mjytDyYTtmbx",
        "colab": {
          "base_uri": "https://localhost:8080/"
        },
        "outputId": "f6a344b5-134b-4260-99c2-339516f603bc"
      },
      "execution_count": null,
      "outputs": [
        {
          "output_type": "stream",
          "name": "stdout",
          "text": [
            "Requirement already satisfied: numpy in /usr/local/lib/python3.11/dist-packages (1.26.4)\n"
          ]
        }
      ]
    },
    {
      "cell_type": "markdown",
      "metadata": {
        "id": "Ht9G0RSv7-n-"
      },
      "source": [
        "# Recitation\n",
        "## *Using Vectors and Arrays in NumPy*\n",
        "\n",
        "## Authors\n",
        "> Joseph Konan <jkonan@andrew.cmu.edu\\>, 11-785 TA <br>\n",
        "> Modified by 10601 Course Staff\n",
        "\n",
        "## Reference\n",
        "> Kelly, Piares A. \"[7.1 Vectors, Tensors and the Index Notation.](http://homepages.engineering.auckland.ac.nz/~pkel015/SolidMechanicsBooks/Part_II/07_3DElasticity/07_3DElasticity_01_3D_Index.pdf)\" In Solid Mechanics Part II: Engineering Solid Mechanics, 189-200. 2012.\n",
        "\n",
        "> A nice cheat sheet: https://s3.amazonaws.com/assets.datacamp.com/blog_assets/Numpy_Python_Cheat_Sheet.pdf\n",
        "\n",
        "## Command Line, File I/O, and Google Colab Tutorial\n",
        "> https://docs.google.com/document/d/1RSGvlBG8dDfs62_0jJEHnQFN-Au6yFbp8M6QTNs3EIY/edit?usp=sharing\n",
        "\n",
        "## Table of Contents\n",
        "1. Setting-up NumPy\n",
        "2. Loading TSV Files\n",
        "3. Slicing and Indexing Arrays\n",
        "4. Vectors vs Arrays\n",
        "5. Useful Numpy Functions\n",
        "\n",
        "## 1. Setting-up NumPy\n",
        "### Installing NumPy\n",
        "To install NumPy using pip:\n",
        "> `pip install numpy`\n",
        "\n",
        "To upgrade NumPy using pip:\n",
        "> `pip install numpy --upgrade`\n",
        "\n",
        "To see current version of NumPy:\n",
        "> `pip show numpy`\n",
        "\n",
        "Alternative methods can be found here:\n",
        "\n",
        "> https://scipy.org/install.html\n",
        "\n",
        "### Importing NumPy\n",
        "We import NumPy similar to how to import any other python library."
      ]
    },
    {
      "cell_type": "code",
      "metadata": {
        "id": "gHYylsI67poT",
        "colab": {
          "base_uri": "https://localhost:8080/",
          "height": 36
        },
        "outputId": "45423398-36a1-4292-8b3a-64fbbc1e45ab"
      },
      "source": [
        "import numpy as np\n",
        "np.random.seed(0)\n",
        "\n",
        "np.version.version"
      ],
      "execution_count": null,
      "outputs": [
        {
          "output_type": "execute_result",
          "data": {
            "text/plain": [
              "'1.26.4'"
            ],
            "application/vnd.google.colaboratory.intrinsic+json": {
              "type": "string"
            }
          },
          "metadata": {},
          "execution_count": 23
        }
      ]
    },
    {
      "cell_type": "markdown",
      "metadata": {
        "id": "OH-ptxxH9rI7"
      },
      "source": [
        "##2. Loading TSV Files\n",
        "There are many ways to load a TSV (or any delimited) file. The easiest way is `np.genfromtxt()`.\n",
        "\n"
      ]
    },
    {
      "cell_type": "code",
      "metadata": {
        "id": "0L1gEVgyBs5v"
      },
      "source": [
        "f = \"small_train.tsv\""
      ],
      "execution_count": null,
      "outputs": []
    },
    {
      "cell_type": "code",
      "metadata": {
        "id": "MIYuePS--N4u",
        "colab": {
          "base_uri": "https://localhost:8080/"
        },
        "outputId": "775a9d47-9d76-46c3-b4f7-ba5667173668"
      },
      "source": [
        "data = np.genfromtxt(f, delimiter=\"\\t\", dtype=None, encoding=None, skip_header=1)\n",
        "print(data)\n",
        "title = data[0, 0:2]\n",
        "data = data[1:]\n",
        "print(title)\n",
        "print(data)"
      ],
      "execution_count": null,
      "outputs": [
        {
          "output_type": "stream",
          "name": "stdout",
          "text": [
            "[['Anti_satellite_test_ban' 'Export_south_africa' 'Party']\n",
            " ['n' 'y' 'democrat']\n",
            " ['n' 'y' 'republican']\n",
            " ['y' 'y' 'democrat']\n",
            " ['y' 'y' 'democrat']\n",
            " ['y' 'y' 'democrat']\n",
            " ['y' 'y' 'democrat']\n",
            " ['y' 'y' 'democrat']\n",
            " ['n' 'y' 'republican']\n",
            " ['y' 'y' 'democrat']\n",
            " ['n' 'n' 'republican']\n",
            " ['y' 'y' 'democrat']\n",
            " ['n' 'y' 'republican']\n",
            " ['y' 'y' 'democrat']\n",
            " ['n' 'n' 'republican']\n",
            " ['n' 'y' 'republican']\n",
            " ['n' 'n' 'republican']\n",
            " ['y' 'y' 'democrat']\n",
            " ['y' 'y' 'democrat']\n",
            " ['y' 'y' 'democrat']\n",
            " ['y' 'y' 'democrat']\n",
            " ['n' 'y' 'democrat']\n",
            " ['y' 'y' 'democrat']\n",
            " ['y' 'n' 'republican']\n",
            " ['n' 'n' 'republican']\n",
            " ['n' 'y' 'republican']\n",
            " ['n' 'y' 'republican']\n",
            " ['n' 'y' 'republican']\n",
            " ['n' 'n' 'republican']]\n"
          ]
        }
      ]
    },
    {
      "cell_type": "markdown",
      "metadata": {
        "id": "5FJvG1tQHvFZ"
      },
      "source": [
        "##3. Slicing and Indexing Arrays\n",
        "Rows and columns of an array can be selected in the form\n",
        "> `array[r,c]`\n",
        "\n",
        "Where the `r` is the row index and `c` is the column index\n",
        "\n",
        "$\n",
        "\\left[\n",
        "  \\begin{array}{cc}\n",
        "  [1 & 2 & 3] \\\\\n",
        "  [4 & 5 & 6] \\\\\n",
        "  [7 & 8 & 9]\n",
        "  \\end{array}\n",
        "\\right]\n",
        "$"
      ]
    },
    {
      "cell_type": "code",
      "metadata": {
        "id": "sFzydFDKIJFs",
        "colab": {
          "base_uri": "https://localhost:8080/"
        },
        "outputId": "6dc60dc2-f29d-486d-fd56-0eec69d15e54"
      },
      "source": [
        "data = np.array([[1,2,3],[4,5,6],[7,8,9]])\n",
        "print(\"1st row, 1st col: \", data[0, 0])"
      ],
      "execution_count": null,
      "outputs": [
        {
          "output_type": "stream",
          "name": "stdout",
          "text": [
            "1st row, 1st col:  1\n"
          ]
        }
      ]
    },
    {
      "cell_type": "code",
      "source": [
        "data * data"
      ],
      "metadata": {
        "colab": {
          "base_uri": "https://localhost:8080/"
        },
        "id": "SiS_40AkspyQ",
        "outputId": "a9f8c2ca-68d3-4b33-9efe-6be4aed1e134"
      },
      "execution_count": null,
      "outputs": [
        {
          "output_type": "execute_result",
          "data": {
            "text/plain": [
              "array([[ 1,  4,  9],\n",
              "       [16, 25, 36],\n",
              "       [49, 64, 81]])"
            ]
          },
          "metadata": {},
          "execution_count": 27
        }
      ]
    },
    {
      "cell_type": "markdown",
      "metadata": {
        "id": "QN_-tsYwJlft"
      },
      "source": [
        "If you want to capture multiple consecutive rows/cols at once, use `x:y`. It means \"from x (included) until y (not included)\". First and last indices can be left blank"
      ]
    },
    {
      "cell_type": "code",
      "metadata": {
        "id": "qqHkGkDvJvF6",
        "colab": {
          "base_uri": "https://localhost:8080/"
        },
        "outputId": "e8bd3c15-fa9e-469a-ed0b-32e7b2784aa9"
      },
      "source": [
        "print(\"Row 0: \", data[0,0:3])\n",
        "data[0]\n",
        "print(\"Col 0: \", data[:,0])"
      ],
      "execution_count": null,
      "outputs": [
        {
          "output_type": "stream",
          "name": "stdout",
          "text": [
            "Row 0:  [1 2 3]\n",
            "Col 0:  [1 4 7]\n"
          ]
        }
      ]
    },
    {
      "cell_type": "code",
      "metadata": {
        "id": "jDoLOcwfL5vV",
        "colab": {
          "base_uri": "https://localhost:8080/",
          "height": 167
        },
        "outputId": "872deaa2-e594-453f-8629-9434d0a3728d"
      },
      "source": [
        "print(\"First two rows: \", data[:2,:])\n",
        "print(\"Rows after first 2 rows: \", data[2:,:])"
      ],
      "execution_count": null,
      "outputs": [
        {
          "output_type": "error",
          "ename": "NameError",
          "evalue": "name 'data' is not defined",
          "traceback": [
            "\u001b[0;31m---------------------------------------------------------------------------\u001b[0m",
            "\u001b[0;31mNameError\u001b[0m                                 Traceback (most recent call last)",
            "\u001b[0;32m<ipython-input-1-745b54ae4e06>\u001b[0m in \u001b[0;36m<cell line: 0>\u001b[0;34m()\u001b[0m\n\u001b[0;32m----> 1\u001b[0;31m \u001b[0mprint\u001b[0m\u001b[0;34m(\u001b[0m\u001b[0;34m\"First two rows: \"\u001b[0m\u001b[0;34m,\u001b[0m \u001b[0mdata\u001b[0m\u001b[0;34m[\u001b[0m\u001b[0;34m:\u001b[0m\u001b[0;36m2\u001b[0m\u001b[0;34m,\u001b[0m\u001b[0;34m:\u001b[0m\u001b[0;34m]\u001b[0m\u001b[0;34m)\u001b[0m\u001b[0;34m\u001b[0m\u001b[0;34m\u001b[0m\u001b[0m\n\u001b[0m\u001b[1;32m      2\u001b[0m \u001b[0mprint\u001b[0m\u001b[0;34m(\u001b[0m\u001b[0;34m\"Rows after first 2 rows: \"\u001b[0m\u001b[0;34m,\u001b[0m \u001b[0mdata\u001b[0m\u001b[0;34m[\u001b[0m\u001b[0;36m2\u001b[0m\u001b[0;34m:\u001b[0m\u001b[0;34m,\u001b[0m\u001b[0;34m:\u001b[0m\u001b[0;34m]\u001b[0m\u001b[0;34m)\u001b[0m\u001b[0;34m\u001b[0m\u001b[0;34m\u001b[0m\u001b[0m\n",
            "\u001b[0;31mNameError\u001b[0m: name 'data' is not defined"
          ]
        }
      ]
    },
    {
      "cell_type": "markdown",
      "metadata": {
        "id": "XTvxjsY-KyYe"
      },
      "source": [
        "You can also take non-consecutive sections, using index lists"
      ]
    },
    {
      "cell_type": "code",
      "metadata": {
        "id": "87iB2gkpK9Oz",
        "colab": {
          "base_uri": "https://localhost:8080/"
        },
        "outputId": "f2e22383-ed6f-44d5-f056-a75eb3cb5e3e"
      },
      "source": [
        "print(\"Rows 0,2: \", data[ [0,2] , :])"
      ],
      "execution_count": null,
      "outputs": [
        {
          "output_type": "stream",
          "name": "stdout",
          "text": [
            "Rows 0,2:  [[1 2 3]\n",
            " [7 8 9]]\n"
          ]
        }
      ]
    },
    {
      "cell_type": "markdown",
      "metadata": {
        "id": "VEU1ewNvKEdo"
      },
      "source": [
        "In order to find the size of your array, use the `.shape` feature. It returns a list of the number of rows and columns"
      ]
    },
    {
      "cell_type": "code",
      "metadata": {
        "id": "jYQ5UgrPKWkS",
        "colab": {
          "base_uri": "https://localhost:8080/"
        },
        "outputId": "738c6a2d-9224-415c-b2b6-6ba6f39025fa"
      },
      "source": [
        "print(data.shape)\n",
        "print(\"Number of rows: \", data.shape[0])\n",
        "print(\"Number of cols: \", data.shape[1])\n",
        "print(\"Array Dimension: \", data.shape)\n",
        "print(\"Number of Rows: \", len(data))\n",
        "print(\"Number of Cols: \", len(data[0]))\n",
        "print(\"Number of Elements: \", data.size)"
      ],
      "execution_count": null,
      "outputs": [
        {
          "output_type": "stream",
          "name": "stdout",
          "text": [
            "(3, 3)\n",
            "Number of rows:  3\n",
            "Number of cols:  3\n",
            "Array Dimension:  (3, 3)\n",
            "Number of Rows:  3\n",
            "Number of Cols:  3\n",
            "Number of Elements:  9\n"
          ]
        }
      ]
    },
    {
      "cell_type": "markdown",
      "metadata": {
        "id": "VB8yngj4Crpn"
      },
      "source": [
        "##4. Vectors vs Arrays\n",
        "Numpy vectors differ from arrays in that they are 1D. Certain differences in indexing may cause an issue"
      ]
    },
    {
      "cell_type": "code",
      "source": [],
      "metadata": {
        "id": "7t98xJpSp97L"
      },
      "execution_count": null,
      "outputs": []
    },
    {
      "cell_type": "code",
      "source": [
        "x = np.array([[1, 2, 3, 4],\n",
        "              [5, 6, 7, 8],\n",
        "              [9, 10,11,12],\n",
        "              [13,14,15,16]]\n",
        "             )\n",
        "v = np.array([[[1,2,3,4]]])\n",
        "print(v.shape)\n",
        "y = x[0,:]\n",
        "y1 = x[:,0]\n",
        "print(x)\n",
        "print(y)\n",
        "print(y1)\n",
        "print(y.shape)\n",
        "print(y1.shape)"
      ],
      "metadata": {
        "id": "PpGRbez2prfn",
        "colab": {
          "base_uri": "https://localhost:8080/"
        },
        "outputId": "8efc0e46-5161-403f-a786-7b5e358ca2a2"
      },
      "execution_count": null,
      "outputs": [
        {
          "output_type": "stream",
          "name": "stdout",
          "text": [
            "(1, 1, 4)\n",
            "[[ 1  2  3  4]\n",
            " [ 5  6  7  8]\n",
            " [ 9 10 11 12]\n",
            " [13 14 15 16]]\n",
            "[1 2 3 4]\n",
            "[ 1  5  9 13]\n",
            "(4,)\n",
            "(4,)\n"
          ]
        }
      ]
    },
    {
      "cell_type": "code",
      "source": [
        "y.reshape((2, -1))"
      ],
      "metadata": {
        "colab": {
          "base_uri": "https://localhost:8080/"
        },
        "id": "TxXpNAlNRdVc",
        "outputId": "dc21dc17-27b6-4156-927a-ef19585d585b"
      },
      "execution_count": null,
      "outputs": [
        {
          "output_type": "execute_result",
          "data": {
            "text/plain": [
              "array([[1, 2],\n",
              "       [3, 4]])"
            ]
          },
          "metadata": {},
          "execution_count": 33
        }
      ]
    },
    {
      "cell_type": "code",
      "metadata": {
        "id": "U2gOWQ5UDS-G",
        "colab": {
          "base_uri": "https://localhost:8080/"
        },
        "outputId": "c18152ed-e2d3-4941-d062-1554af28869b"
      },
      "source": [
        "y2 = y.reshape([1, y.shape[0]])\n",
        "print(y2)"
      ],
      "execution_count": null,
      "outputs": [
        {
          "output_type": "stream",
          "name": "stdout",
          "text": [
            "[[1 2 3 4]]\n"
          ]
        }
      ]
    },
    {
      "cell_type": "markdown",
      "metadata": {
        "id": "WVpbw4--QwaK"
      },
      "source": [
        "Notice that vectors and arrays have different dimensions"
      ]
    },
    {
      "cell_type": "code",
      "metadata": {
        "id": "Oc4VCmmRHE19",
        "colab": {
          "base_uri": "https://localhost:8080/"
        },
        "outputId": "53252cfb-630a-4c50-97bd-bdedab092018"
      },
      "source": [
        "print(y.shape)\n",
        "print(y2.shape)"
      ],
      "execution_count": null,
      "outputs": [
        {
          "output_type": "stream",
          "name": "stdout",
          "text": [
            "(4,)\n",
            "(1, 4)\n"
          ]
        }
      ]
    },
    {
      "cell_type": "markdown",
      "metadata": {
        "id": "xdpxoTLrQ9Dw"
      },
      "source": [
        "Vectors also cannot be transposed"
      ]
    },
    {
      "cell_type": "code",
      "metadata": {
        "id": "5vqeVPeIQCUO",
        "colab": {
          "base_uri": "https://localhost:8080/"
        },
        "outputId": "272f55f2-d0d9-45c9-fc6b-e9168ce62632"
      },
      "source": [
        "print(y.T)\n",
        "print(y2.T)"
      ],
      "execution_count": null,
      "outputs": [
        {
          "output_type": "stream",
          "name": "stdout",
          "text": [
            "[1 2 3 4]\n",
            "[[1]\n",
            " [2]\n",
            " [3]\n",
            " [4]]\n"
          ]
        }
      ]
    },
    {
      "cell_type": "code",
      "source": [
        "v = np.array([1,2,3,4])\n",
        "w = np.array([1,1,1,1])\n",
        "print(np.dot(v,w))"
      ],
      "metadata": {
        "colab": {
          "base_uri": "https://localhost:8080/"
        },
        "id": "LHu5WFY8rTPA",
        "outputId": "554f9a0f-b2c6-494a-d9a9-24904b7d1e69"
      },
      "execution_count": null,
      "outputs": [
        {
          "output_type": "stream",
          "name": "stdout",
          "text": [
            "10\n"
          ]
        }
      ]
    },
    {
      "cell_type": "markdown",
      "metadata": {
        "id": "EVl-9ri9dFtn"
      },
      "source": [
        "##5. Useful Numpy Functions\n",
        "There are many common functions that we believe will be very useful throughout your assignments. They're organized into type below:"
      ]
    },
    {
      "cell_type": "code",
      "metadata": {
        "id": "D3gCaqUUdGuR"
      },
      "source": [
        "z = np.array([[1,2],[3,4]])\n",
        "y = np.array([[5,6],[7,8]])"
      ],
      "execution_count": null,
      "outputs": []
    },
    {
      "cell_type": "markdown",
      "metadata": {
        "id": "o2Ev5u8vStO2"
      },
      "source": [
        "## Initializations\n",
        "1. Identity Matrix"
      ]
    },
    {
      "cell_type": "code",
      "metadata": {
        "id": "lw__xrkkTRKd",
        "colab": {
          "base_uri": "https://localhost:8080/"
        },
        "outputId": "02788384-710d-4ee1-8f20-ac1dde0bd1cd"
      },
      "source": [
        "i4 = np.eye(4)\n",
        "print(i4)"
      ],
      "execution_count": null,
      "outputs": [
        {
          "output_type": "stream",
          "name": "stdout",
          "text": [
            "[[1. 0. 0. 0.]\n",
            " [0. 1. 0. 0.]\n",
            " [0. 0. 1. 0.]\n",
            " [0. 0. 0. 1.]]\n"
          ]
        }
      ]
    },
    {
      "cell_type": "markdown",
      "metadata": {
        "id": "ZZifamXvTVQ6"
      },
      "source": [
        "2. Matrix of 0s or 1s"
      ]
    },
    {
      "cell_type": "code",
      "metadata": {
        "id": "-pDpMmFaTYog",
        "colab": {
          "base_uri": "https://localhost:8080/"
        },
        "outputId": "9daae465-1ec7-47db-b6bc-7f2c66cbe9cb"
      },
      "source": [
        "zeros = np.zeros([2,3])\n",
        "ones = np.ones((2,3))\n",
        "\n",
        "print(zeros)\n",
        "print(ones)"
      ],
      "execution_count": null,
      "outputs": [
        {
          "output_type": "stream",
          "name": "stdout",
          "text": [
            "[[0. 0. 0.]\n",
            " [0. 0. 0.]]\n",
            "[[1. 1. 1.]\n",
            " [1. 1. 1.]]\n"
          ]
        }
      ]
    },
    {
      "cell_type": "markdown",
      "metadata": {
        "id": "q9GqaC3rUOWn"
      },
      "source": [
        "3. Random Initializations with np.random (more documentation at: https://docs.scipy.org/doc/numpy-1.15.0/reference/routines.random.html)"
      ]
    },
    {
      "cell_type": "code",
      "metadata": {
        "id": "5SGl35bRVODU",
        "colab": {
          "base_uri": "https://localhost:8080/"
        },
        "outputId": "5ce801f0-b4d2-465c-f7cd-e85734079b40"
      },
      "source": [
        "#Random number between 0 and 1\n",
        "random = np.random.random((2,3))\n",
        "print(random)"
      ],
      "execution_count": null,
      "outputs": [
        {
          "output_type": "stream",
          "name": "stdout",
          "text": [
            "[[0.5488135  0.71518937 0.60276338]\n",
            " [0.54488318 0.4236548  0.64589411]]\n"
          ]
        }
      ]
    },
    {
      "cell_type": "code",
      "metadata": {
        "id": "Ca5SbtwDVRNm",
        "colab": {
          "base_uri": "https://localhost:8080/"
        },
        "outputId": "1940ba75-65ad-4b33-ab48-d5cc83e72329"
      },
      "source": [
        "#Random decimal between given range\n",
        "uniform = np.random.uniform(low=-0.1, high=0.1, size=(2,3))\n",
        "print(uniform)"
      ],
      "execution_count": null,
      "outputs": [
        {
          "output_type": "stream",
          "name": "stdout",
          "text": [
            "[[-0.01248256  0.0783546   0.09273255]\n",
            " [-0.0233117   0.05834501  0.00577898]]\n"
          ]
        }
      ]
    },
    {
      "cell_type": "code",
      "metadata": {
        "id": "nwHqwMHlVS8s",
        "colab": {
          "base_uri": "https://localhost:8080/"
        },
        "outputId": "e1096b4a-73c4-4cae-8674-4a21c1263c12"
      },
      "source": [
        "#Random integer between given range\n",
        "integer = np.random.randint(low=-20, high=20, size=(2,3))\n",
        "print(integer)"
      ],
      "execution_count": null,
      "outputs": [
        {
          "output_type": "stream",
          "name": "stdout",
          "text": [
            "[[  4  -3  17]\n",
            " [  5  -7 -12]]\n"
          ]
        }
      ]
    },
    {
      "cell_type": "markdown",
      "metadata": {
        "id": "tUwRdIc4WaQe"
      },
      "source": [
        "## Reshaping arrays"
      ]
    },
    {
      "cell_type": "code",
      "source": [
        "print(x)\n",
        "print(x.shape)"
      ],
      "metadata": {
        "id": "DfghTinWo5La",
        "colab": {
          "base_uri": "https://localhost:8080/"
        },
        "outputId": "82834b6a-c171-4400-e44b-b037f74a340a"
      },
      "execution_count": null,
      "outputs": [
        {
          "output_type": "stream",
          "name": "stdout",
          "text": [
            "[[ 1  2  3  4]\n",
            " [ 5  6  7  8]\n",
            " [ 9 10 11 12]\n",
            " [13 14 15 16]]\n",
            "(4, 4)\n"
          ]
        }
      ]
    },
    {
      "cell_type": "code",
      "metadata": {
        "id": "BtQJh3a2WcLb",
        "colab": {
          "base_uri": "https://localhost:8080/"
        },
        "outputId": "11d302e0-035d-4ad6-c0fc-6eda9b3ac09a"
      },
      "source": [
        "print(x.reshape([2,8]))"
      ],
      "execution_count": null,
      "outputs": [
        {
          "output_type": "stream",
          "name": "stdout",
          "text": [
            "[[ 1  2  3  4]\n",
            " [ 5  6  7  8]\n",
            " [ 9 10 11 12]\n",
            " [13 14 15 16]]\n"
          ]
        }
      ]
    },
    {
      "cell_type": "code",
      "metadata": {
        "id": "Neub4BR_a_RR",
        "colab": {
          "base_uri": "https://localhost:8080/"
        },
        "outputId": "8611cda1-faa0-438d-bd69-579c7290467e"
      },
      "source": [
        "nrows = 1\n",
        "print(x.reshape([nrows, -1]))"
      ],
      "execution_count": null,
      "outputs": [
        {
          "output_type": "stream",
          "name": "stdout",
          "text": [
            "[[ 1  2  3  4  5  6  7  8  9 10 11 12 13 14 15 16]]\n"
          ]
        }
      ]
    },
    {
      "cell_type": "code",
      "source": [
        "print(y)\n",
        "print(y.shape)"
      ],
      "metadata": {
        "id": "JlsDu9TjpAsi",
        "colab": {
          "base_uri": "https://localhost:8080/"
        },
        "outputId": "b3f19545-ac2f-47ca-ad2e-24a9e302c5bc"
      },
      "execution_count": null,
      "outputs": [
        {
          "output_type": "stream",
          "name": "stdout",
          "text": [
            "[[5 6]\n",
            " [7 8]]\n",
            "(2, 2)\n"
          ]
        }
      ]
    },
    {
      "cell_type": "code",
      "metadata": {
        "id": "fLB0be6NbEGs",
        "colab": {
          "base_uri": "https://localhost:8080/"
        },
        "outputId": "d8599650-68fc-4a9b-9a0c-a1b14d9235a9"
      },
      "source": [
        "print(y.reshape([4,1]))"
      ],
      "execution_count": null,
      "outputs": [
        {
          "output_type": "stream",
          "name": "stdout",
          "text": [
            "[[5]\n",
            " [6]\n",
            " [7]\n",
            " [8]]\n"
          ]
        }
      ]
    },
    {
      "cell_type": "code",
      "source": [
        "import numpy as np\n",
        "a = np.array([1,2,3])\n",
        "print(a.shape)\n",
        "a.reshape()"
      ],
      "metadata": {
        "colab": {
          "base_uri": "https://localhost:8080/"
        },
        "id": "4tOyhUrxBl4_",
        "outputId": "eb8e32bd-9dc9-4905-eeee-78e5c4c9e6a9"
      },
      "execution_count": null,
      "outputs": [
        {
          "output_type": "stream",
          "name": "stdout",
          "text": [
            "(3,)\n"
          ]
        }
      ]
    },
    {
      "cell_type": "markdown",
      "metadata": {
        "id": "oL74zzDhWctb"
      },
      "source": [
        "3. Appending arrays with vstack/hstack\n",
        "\n",
        "$\n",
        "\\left[\\begin{array}{cc}\n",
        "[1 & 2] \\\\\n",
        "[3 & 4]\n",
        "\\end{array}\\right]\n",
        "hstack\n",
        "\\left[\\begin{array}{cc}\n",
        "[5 & 6] \\\\\n",
        "[7 & 8]\n",
        "\\end{array}\\right]\n",
        "=\n",
        "\\left[\\begin{array}{cc}\n",
        "[1 & 2 & 5 & 6] \\\\\n",
        "[3 & 4 & 7 & 8]\n",
        "\\end{array}\\right]\n",
        "$"
      ]
    },
    {
      "cell_type": "code",
      "metadata": {
        "id": "J2Qb4hPoWg2l",
        "colab": {
          "base_uri": "https://localhost:8080/"
        },
        "outputId": "a9f84bf2-a492-4f3d-80c4-c217b07fe32e"
      },
      "source": [
        "x = np.array([[1,2],[3,4]])\n",
        "y = np.array([[5,6],[7,8]])\n",
        "h_stack = np.hstack([x, y])\n",
        "print(h_stack)"
      ],
      "execution_count": null,
      "outputs": [
        {
          "output_type": "stream",
          "name": "stdout",
          "text": [
            "[[1 2 5 6]\n",
            " [3 4 7 8]]\n"
          ]
        }
      ]
    },
    {
      "cell_type": "code",
      "source": [
        "x = np.array([1,2,3])\n",
        "print(x)\n",
        "y = np.array([4,5,6])\n",
        "print(y)\n",
        "x.dot(y)"
      ],
      "metadata": {
        "colab": {
          "base_uri": "https://localhost:8080/"
        },
        "id": "vpHslTrptIji",
        "outputId": "b1c956c0-a9f0-45d5-a36b-9d2a6b6c878c"
      },
      "execution_count": null,
      "outputs": [
        {
          "output_type": "stream",
          "name": "stdout",
          "text": [
            "[1 2 3]\n",
            "[4 5 6]\n"
          ]
        },
        {
          "output_type": "execute_result",
          "data": {
            "text/plain": [
              "32"
            ]
          },
          "metadata": {},
          "execution_count": 14
        }
      ]
    },
    {
      "cell_type": "markdown",
      "metadata": {
        "id": "qrMIUe4XonKz"
      },
      "source": [
        "$\n",
        "\\left[\\begin{array}{cc}\n",
        "[1 & 2] \\\\\n",
        "[3 & 4]\n",
        "\\end{array}\\right]\n",
        "vstack\n",
        "\\left[\\begin{array}{cc}\n",
        "[5 & 6] \\\\\n",
        "[7 & 8]\n",
        "\\end{array}\\right]\n",
        "=\n",
        "\\left[\\begin{array}{cc}\n",
        "[1 & 2]\\\\\n",
        "[3 & 4]\\\\\n",
        "[5 & 6]\\\\\n",
        "[7 & 8]\n",
        "\\end{array}\\right]\n",
        "$"
      ]
    },
    {
      "cell_type": "code",
      "metadata": {
        "id": "IesBYAF_b4Bo",
        "colab": {
          "base_uri": "https://localhost:8080/"
        },
        "outputId": "563dff9a-655f-4562-f4bb-edc7b85cb18e"
      },
      "source": [
        "v_stack = np.vstack([x, y])\n",
        "print(v_stack)"
      ],
      "execution_count": null,
      "outputs": [
        {
          "output_type": "stream",
          "name": "stdout",
          "text": [
            "[[1 2]\n",
            " [3 4]\n",
            " [5 6]\n",
            " [7 8]]\n"
          ]
        }
      ]
    },
    {
      "cell_type": "markdown",
      "metadata": {
        "id": "HkxHSVOkWhYC"
      },
      "source": [
        "## Matrix Operations\n",
        "For the next couple of cells, we will be using\n",
        "\n",
        "$ x =\n",
        "\\left[\\begin{array}{cc}\n",
        "[1 & 2] \\\\\n",
        "[3 & 4]\n",
        "\\end{array}\\right]\n",
        "$\n",
        "and\n",
        "$ y =\n",
        "\\left[\\begin{array}{cc}\n",
        "[5 & 6] \\\\\n",
        "[7 & 8]\n",
        "\\end{array}\\right]\n",
        "$\n",
        "1. Addition\n",
        "\n",
        "$\n",
        "\\left(\\begin{array}{cc}\n",
        "1 & 2 \\\\\n",
        "3 & 4\n",
        "\\end{array}\\right)\n",
        "+\n",
        "\\left(\\begin{array}{cc}\n",
        "5 & 6 \\\\\n",
        "7 & 8\n",
        "\\end{array}\\right)\n",
        "=\n",
        "\\left(\\begin{array}{cc}\n",
        "6 & 8 \\\\\n",
        "10 & 12\n",
        "\\end{array}\\right)\n",
        "$"
      ]
    },
    {
      "cell_type": "code",
      "metadata": {
        "id": "pvdG1y_8WtBu",
        "colab": {
          "base_uri": "https://localhost:8080/"
        },
        "outputId": "84faba0c-4247-4133-ac22-c6e84729193f"
      },
      "source": [
        "add_v1 = np.add(x, y)\n",
        "add_v2 = x + y\n",
        "print(\"Are both the same? \",np.array_equal(add_v1, add_v2))\n",
        "print(add_v1)"
      ],
      "execution_count": null,
      "outputs": [
        {
          "output_type": "stream",
          "name": "stdout",
          "text": [
            "Are both the same?  True\n",
            "[[ 6  8]\n",
            " [10 12]]\n"
          ]
        }
      ]
    },
    {
      "cell_type": "markdown",
      "metadata": {
        "id": "d9Z0oQoAWtNX"
      },
      "source": [
        "2. Subtraction\n",
        "\n",
        "$\n",
        "\\left(\\begin{array}{cc}\n",
        "5 & 6 \\\\\n",
        "7 & 8\n",
        "\\end{array}\\right)\n",
        "-\n",
        "\\left(\\begin{array}{cc}\n",
        "1 & 2 \\\\\n",
        "3 & 4\n",
        "\\end{array}\\right)\n",
        "=\n",
        "\\left(\\begin{array}{cc}\n",
        "4 & 4 \\\\\n",
        "4 & 4\n",
        "\\end{array}\\right)\n",
        "$"
      ]
    },
    {
      "cell_type": "code",
      "metadata": {
        "id": "p5kuCPtKXB7M",
        "colab": {
          "base_uri": "https://localhost:8080/"
        },
        "outputId": "e29fd046-a9ff-4bd6-fd1d-e15dd1ae3e8b"
      },
      "source": [
        "sub = y - x\n",
        "print(sub)"
      ],
      "execution_count": null,
      "outputs": [
        {
          "output_type": "stream",
          "name": "stdout",
          "text": [
            "[[4 4]\n",
            " [4 4]]\n"
          ]
        }
      ]
    },
    {
      "cell_type": "markdown",
      "metadata": {
        "id": "q3DWzCt_fQxs"
      },
      "source": [
        "3. Multiplying by a Constant\n",
        "\n",
        "$\n",
        "4 *\n",
        "\\left(\\begin{array}{cc}\n",
        "1 & 2 \\\\\n",
        "3 & 4\n",
        "\\end{array}\\right)\n",
        "=\n",
        "\\left(\\begin{array}{cc}\n",
        "4 & 8 \\\\\n",
        "12 & 16\n",
        "\\end{array}\\right)\n",
        "$"
      ]
    },
    {
      "cell_type": "code",
      "metadata": {
        "id": "9O7Cu102fAAn",
        "colab": {
          "base_uri": "https://localhost:8080/"
        },
        "outputId": "d096392b-1336-49be-84cf-01f8612414bf"
      },
      "source": [
        "c = 4\n",
        "print(c * x)\n",
        "\n",
        "# broadcasting"
      ],
      "execution_count": null,
      "outputs": [
        {
          "output_type": "stream",
          "name": "stdout",
          "text": [
            "[[ 4  8]\n",
            " [12 16]]\n"
          ]
        }
      ]
    },
    {
      "cell_type": "markdown",
      "metadata": {
        "id": "97-6W2mgXCFd"
      },
      "source": [
        "4. Matrix Multiplication\n",
        "\n",
        "$\n",
        "\\left(\\begin{array}{cc}\n",
        "1 & 2 \\\\\n",
        "3 & 4 \\\\\n",
        "5 & 6\n",
        "\\end{array}\\right)\n",
        "\\cdot\n",
        "\\left(\\begin{array}{cc}\n",
        "5 & 6 & 7\\\\\n",
        "8 & 9 & 10\n",
        "\\end{array}\\right)\n",
        "=\n",
        "\\begin{pmatrix}21&24&27\\\\ 47&54&61\\\\ 73&84&95\\end{pmatrix}\n",
        "$"
      ]
    },
    {
      "cell_type": "code",
      "source": [
        "l = np.array([[1,2],[3,4],[5,6]])\n",
        "r = np.array([[5,6,7],[8,9,10]])\n",
        "print(l)\n",
        "print(r)"
      ],
      "metadata": {
        "id": "8arCS-8Lrncf",
        "colab": {
          "base_uri": "https://localhost:8080/"
        },
        "outputId": "27825aa1-bf4a-476b-bc47-5a4cd2090300"
      },
      "execution_count": null,
      "outputs": [
        {
          "output_type": "stream",
          "name": "stdout",
          "text": [
            "[[1 2]\n",
            " [3 4]\n",
            " [5 6]]\n",
            "[[5 6 7]]\n"
          ]
        }
      ]
    },
    {
      "cell_type": "code",
      "metadata": {
        "id": "-zASRydXXDX7",
        "colab": {
          "base_uri": "https://localhost:8080/"
        },
        "outputId": "83abc3b0-1c32-4886-9616-118b6763b87e"
      },
      "source": [
        "mult_v1 = np.matmul(l, r)\n",
        "mult_v2 = l @ r\n",
        "print(\"Are both the same? \", np.array_equal(mult_v1, mult_v2))\n",
        "print(mult_v1)"
      ],
      "execution_count": null,
      "outputs": [
        {
          "output_type": "stream",
          "name": "stdout",
          "text": [
            "Are both the same?  True\n",
            "[[21 24 27]\n",
            " [47 54 61]]\n"
          ]
        }
      ]
    },
    {
      "cell_type": "markdown",
      "metadata": {
        "id": "fAs6oEdPe5uT"
      },
      "source": [
        "5. Elementwise multiplication\n",
        "\n",
        "$\n",
        "\\left(\\begin{array}{cc}\n",
        "1 & 2 \\\\\n",
        "3 & 4\n",
        "\\end{array}\\right)\n",
        "\\times\n",
        "\\left(\\begin{array}{cc}\n",
        "5 & 6 \\\\\n",
        "7 & 8\n",
        "\\end{array}\\right)\n",
        "=\n",
        "\\left(\\begin{array}{cc}\n",
        "5 & 12 \\\\\n",
        "21 & 32\n",
        "\\end{array}\\right)\n",
        "$"
      ]
    },
    {
      "cell_type": "code",
      "metadata": {
        "id": "II9iz-z1fpw9",
        "colab": {
          "base_uri": "https://localhost:8080/"
        },
        "outputId": "d9a2413d-123b-46b7-b710-b76789be89e4"
      },
      "source": [
        "elem_mult = x * y\n",
        "print(elem_mult)"
      ],
      "execution_count": null,
      "outputs": [
        {
          "output_type": "stream",
          "name": "stdout",
          "text": [
            "[[ 5 12]\n",
            " [21 32]]\n"
          ]
        }
      ]
    },
    {
      "cell_type": "code",
      "source": [
        "a = np.array([1,2,3])\n",
        "a + 4"
      ],
      "metadata": {
        "colab": {
          "base_uri": "https://localhost:8080/"
        },
        "id": "3e0K5keFCWN-",
        "outputId": "e22e09df-85be-4f10-c1c8-5c443e98cec8"
      },
      "execution_count": null,
      "outputs": [
        {
          "output_type": "execute_result",
          "data": {
            "text/plain": [
              "array([5, 6, 7])"
            ]
          },
          "metadata": {},
          "execution_count": 3
        }
      ]
    },
    {
      "cell_type": "markdown",
      "metadata": {
        "id": "8ZIcLgnyXOiy"
      },
      "source": [
        "## Math Operations\n",
        "\n",
        "1. Exponential and natural log"
      ]
    },
    {
      "cell_type": "code",
      "metadata": {
        "id": "hhmUAYsOXTU-",
        "colab": {
          "base_uri": "https://localhost:8080/"
        },
        "outputId": "4306c8c5-5145-4652-c345-e72e1b194db0"
      },
      "source": [
        "print(np.exp(x))\n",
        "\n",
        "print(\"exp(1) = \", np.exp(1))\n",
        "print(\"exp(2) = \", np.exp(2))\n",
        "print(\"exp(3) = \", np.exp(3))\n",
        "print(\"exp(4) = \", np.exp(4))"
      ],
      "execution_count": null,
      "outputs": [
        {
          "output_type": "stream",
          "name": "stdout",
          "text": [
            "[[ 2.71828183  7.3890561 ]\n",
            " [20.08553692 54.59815003]]\n",
            "exp(1) =  2.718281828459045\n",
            "exp(2) =  7.38905609893065\n",
            "exp(3) =  20.085536923187668\n",
            "exp(4) =  54.598150033144236\n"
          ]
        }
      ]
    },
    {
      "cell_type": "code",
      "metadata": {
        "id": "LYsBnv6bglyw",
        "colab": {
          "base_uri": "https://localhost:8080/"
        },
        "outputId": "9ecb7791-fd63-4bce-9345-154ac121fa38"
      },
      "source": [
        "print(np.log(x))\n",
        "\n",
        "print(\"log(1) = \", np.log(1))\n",
        "print(\"log(2) = \", np.log(2))\n",
        "print(\"log(3) = \", np.log(3))\n",
        "print(\"log(4) = \", np.log(4))"
      ],
      "execution_count": null,
      "outputs": [
        {
          "output_type": "stream",
          "name": "stdout",
          "text": [
            "[[0.         0.69314718]\n",
            " [1.09861229 1.38629436]]\n",
            "log(1) =  0.0\n",
            "log(2) =  0.6931471805599453\n",
            "log(3) =  1.0986122886681098\n",
            "log(4) =  1.3862943611198906\n"
          ]
        }
      ]
    },
    {
      "cell_type": "markdown",
      "metadata": {
        "id": "sq1jINt_hYEG"
      },
      "source": [
        "2. Min/Max, Argmin/Argmax, maximum/minimum"
      ]
    },
    {
      "cell_type": "code",
      "metadata": {
        "id": "A6WnktrBheSo",
        "colab": {
          "base_uri": "https://localhost:8080/"
        },
        "outputId": "44e0fb3d-a58e-4ec1-9498-162621dc88cb"
      },
      "source": [
        "wide_df = np.hstack([x,y])\n",
        "print(wide_df)\n",
        "print(\"Max of first row is: \", np.max(wide_df[0,:]))\n",
        "print(\"It is in column: \", np.argmax(wide_df[0,:]))"
      ],
      "execution_count": null,
      "outputs": [
        {
          "output_type": "stream",
          "name": "stdout",
          "text": [
            "[[1 2 5 6]\n",
            " [3 4 7 8]]\n",
            "Max of first row is:  6\n",
            "It is in column:  3\n"
          ]
        }
      ]
    },
    {
      "cell_type": "code",
      "metadata": {
        "id": "6k-Y946SiQe_",
        "colab": {
          "base_uri": "https://localhost:8080/"
        },
        "outputId": "dd2242e5-833d-4c2b-92ea-7df7fef6724d"
      },
      "source": [
        "long_df = np.vstack([x,y])\n",
        "print(long_df)\n",
        "print(\"Min of 2nd col is: \", np.min(long_df[:,1]))\n",
        "print(\"It is in row: \", np.argmin(long_df[:,1]))"
      ],
      "execution_count": null,
      "outputs": [
        {
          "output_type": "stream",
          "name": "stdout",
          "text": [
            "[[1 2]\n",
            " [3 4]\n",
            " [5 6]\n",
            " [7 8]]\n",
            "Min of 2nd col is:  2\n",
            "It is in row:  0\n"
          ]
        }
      ]
    },
    {
      "cell_type": "code",
      "metadata": {
        "id": "lHrCWZaesQBP",
        "colab": {
          "base_uri": "https://localhost:8080/"
        },
        "outputId": "5d7af528-bb8e-4d16-9735-b8a9190cf6a7"
      },
      "source": [
        "a = np.array([2,4,5])\n",
        "b = np.array([3,1,6])\n",
        "print(\"Element wise maximum of a and b is: \", np.maximum(a, b))\n",
        "print(\"Element wise minimum of a and b is: \", np.minimum(a, b))"
      ],
      "execution_count": null,
      "outputs": [
        {
          "output_type": "stream",
          "name": "stdout",
          "text": [
            "Element wise maximum of a and b is:  [3 4 6]\n",
            "Element wise minimum of a and b is:  [2 1 5]\n"
          ]
        }
      ]
    },
    {
      "cell_type": "code",
      "source": [
        "a = np.array([\n",
        "              [1,2],\n",
        "              [3,4],\n",
        "              [5,6]\n",
        "])\n",
        "# a used to be 3x2\n",
        "print(a.sum(axis=0)) # a becomes 2\n",
        "print(a.sum(axis=1)) # a become 3\n",
        "print(a.sum())\n",
        "#a / a.sum(axis=0)\n",
        "print(a*(1/a.sum(axis=0)))"
      ],
      "metadata": {
        "id": "Of6cdaolu1aQ",
        "colab": {
          "base_uri": "https://localhost:8080/"
        },
        "outputId": "6f03330b-b20b-477e-a896-6dbbc1365930"
      },
      "execution_count": null,
      "outputs": [
        {
          "output_type": "stream",
          "name": "stdout",
          "text": [
            "[ 9 12]\n",
            "[ 3  7 11]\n",
            "21\n",
            "[[0.11111111 0.16666667]\n",
            " [0.33333333 0.33333333]\n",
            " [0.55555556 0.5       ]]\n"
          ]
        }
      ]
    },
    {
      "cell_type": "code",
      "source": [],
      "metadata": {
        "id": "3YWcqJ4FQIEC"
      },
      "execution_count": null,
      "outputs": []
    }
  ]
}